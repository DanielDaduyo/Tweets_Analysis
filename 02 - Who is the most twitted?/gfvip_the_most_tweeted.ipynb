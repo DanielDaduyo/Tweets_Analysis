{
 "cells": [
  {
   "cell_type": "markdown",
   "metadata": {
    "id": "Se1lhnKoUZPV"
   },
   "source": [
    "# Live Tweet Analysis: Grande Fratello VIP\n",
    "\n",
    "*“There is only one thing in the world worse than being talked about, and that is not being talked about.”* ― Oscar Wilde, The Picture of Dorian Gray\n",
    "\n",
    "Episodes: 2021, December 17 + 2021, December 20\n",
    "\n",
    "**GOAL**: Detect the most tweeted contestants of the Italian version of Celebrity Big Brother, **Grande Fratello VIP**, during the broadcast of the show, inside the official hashtag #GFVIP. Considering that the program airs twice during the week, the same analysis will be made for each of the two days.\n",
    "\n",
    "**NOTES**:\n",
    "* The show airs at 9.40 P.M. CET. The analysis will start before that moment."
   ]
  },
  {
   "cell_type": "markdown",
   "metadata": {
    "id": "SZUOz7xriSRv"
   },
   "source": [
    "## Required libraries"
   ]
  },
  {
   "cell_type": "code",
   "execution_count": null,
   "metadata": {
    "id": "taF6YJqCiSRx"
   },
   "outputs": [],
   "source": [
    "from pyspark import SparkContext\n",
    "from pyspark.sql import SparkSession, Row\n",
    "from pyspark.streaming import StreamingContext\n",
    "from time import time\n",
    "import datetime as dt\n",
    "import string\n",
    "import seaborn as sns\n",
    "import matplotlib.pyplot as plt"
   ]
  },
  {
   "cell_type": "markdown",
   "metadata": {
    "id": "yEY0H7vrYH3s"
   },
   "source": [
    "## Variables"
   ]
  },
  {
   "cell_type": "code",
   "execution_count": 1,
   "metadata": {
    "id": "j5Rw2fOnYH3u"
   },
   "outputs": [],
   "source": [
    "BATCH_DURATION = 5\n",
    "PORT = 9999\n",
    "hostname = \"localhost\"\n",
    "checkpoint = \"/home/daniel/checkpoint\"\n",
    "fig_cont_frid = \"output/GFVIP_2021_12_17_cont.jpg\"\n",
    "fig_opin_frid = \"output/GFVIP_2021_12_17_opin.jpg\"\n",
    "fig_cont_mond = \"output/GFVIP_2021_12_19_cont.jpg\"\n",
    "fig_opin_mond = \"output/GFVIP_2021_12_19_opin.jpg\""
   ]
  },
  {
   "cell_type": "markdown",
   "metadata": {
    "id": "I15BfO1HUyP-"
   },
   "source": [
    "## Spark instance and Streaming Context"
   ]
  },
  {
   "cell_type": "code",
   "execution_count": null,
   "metadata": {
    "id": "GJ7nkS4tb3RT"
   },
   "outputs": [],
   "source": [
    "sc = SparkContext()\n",
    "ssc = StreamingContext(sc, BATCH_DURATION)\n",
    "ssc.checkpoint(checkpoint)\n",
    "lines = ssc.socketTextStream(hostname, PORT)"
   ]
  },
  {
   "cell_type": "markdown",
   "metadata": {
    "id": "TJB5-gJSiSSL"
   },
   "source": [
    "## Spark Session"
   ]
  },
  {
   "cell_type": "code",
   "execution_count": null,
   "metadata": {
    "id": "7SRqxWNbuQtQ"
   },
   "outputs": [],
   "source": [
    "def get_spark_session(spark_context):\n",
    "    if (\"sqlContextSingletonInstance\" not in globals()):\n",
    "        globals()[\"sqlContextSingletonInstance\"] = SparkSession \\\n",
    "                            .builder \\\n",
    "                            .config(conf=spark_context) \\\n",
    "                            .getOrCreate()\n",
    "    return globals()[\"sqlContextSingletonInstance\"]"
   ]
  },
  {
   "cell_type": "markdown",
   "metadata": {
    "id": "qcwxgmUtiSR6"
   },
   "source": [
    "## Data preprocessing"
   ]
  },
  {
   "cell_type": "code",
   "execution_count": null,
   "metadata": {
    "id": "nz9ZD4c_uFE-"
   },
   "outputs": [],
   "source": [
    "def aggregate_count(new_values, total_sum):\n",
    "    return sum(new_values) + (total_sum or 0)"
   ]
  },
  {
   "cell_type": "code",
   "execution_count": null,
   "metadata": {
    "id": "CtVuzRaCuJsz"
   },
   "outputs": [],
   "source": [
    "# Remove any hashtags and punctuation and make the word lowercase with the first letter uppercase\n",
    "def clean_hashtag(word):\n",
    "    return word.lower().capitalize().translate(str.maketrans('', '', string.punctuation))"
   ]
  },
  {
   "cell_type": "code",
   "execution_count": null,
   "metadata": {
    "id": "3qx11qA8iSSB"
   },
   "outputs": [],
   "source": [
    "# Replace surnames or aliases with the names in the list\n",
    "def change_name(name):\n",
    "    if name in list(full_names.keys()):\n",
    "        return full_names[name]\n",
    "    else:\n",
    "        return name"
   ]
  },
  {
   "cell_type": "markdown",
   "metadata": {
    "id": "86HiJLfAiSSE"
   },
   "source": [
    "## Timestamp"
   ]
  },
  {
   "cell_type": "code",
   "execution_count": null,
   "metadata": {
    "id": "N_EoY_SJiSSI"
   },
   "outputs": [],
   "source": [
    "def format_timestamp(x):\n",
    "    return x.strftime(\"%Y-%m-%d %H:%M:%S\")"
   ]
  },
  {
   "cell_type": "code",
   "execution_count": null,
   "metadata": {
    "id": "ZxPEWPMkYH39"
   },
   "outputs": [],
   "source": [
    "def print_timedelta(date_start):\n",
    "    print(\"Start tweet analysis: \" + format_timestamp(date_start))\n",
    "    date_now = dt.datetime.now()\n",
    "    print(\"Last update: \" + format_timestamp(date_now))\n",
    "    delta = date_now - date_start\n",
    "    delta_seconds = delta.seconds\n",
    "    delta_hours = delta_seconds/3600\n",
    "    delta_minutes = (delta_seconds/60)%60\n",
    "    delta_seconds = delta_seconds%60\n",
    "    if delta.days!=0:\n",
    "        print(\"Elapsed time: %d days, %d hours, %d minutes, %d seconds\" \n",
    "                % (delta.days, delta_hours, delta_minutes, delta_seconds))\n",
    "    else:\n",
    "        print(\"Elapsed time: %d hours, %d minutes, %d seconds\" \n",
    "                % (delta_hours, delta_minutes, delta_seconds))"
   ]
  },
  {
   "cell_type": "markdown",
   "metadata": {
    "id": "UIoVKA25iSSO"
   },
   "source": [
    "## RDD processing"
   ]
  },
  {
   "cell_type": "code",
   "execution_count": null,
   "metadata": {
    "id": "iNCyEz0scDlQ"
   },
   "outputs": [],
   "source": [
    "def process_rdd(time, rdd):\n",
    "    if (rdd.count()>0):\n",
    "        spark = get_spark_session(rdd.context.getConf())\n",
    "        row_rdd = rdd.map(lambda w: Row(Name=w[0], Count=w[1]))\n",
    "        table_df = spark.createDataFrame(row_rdd)\n",
    "        table_df = table_df.createOrReplaceTempView(\"TempView\")"
   ]
  },
  {
   "cell_type": "code",
   "execution_count": null,
   "metadata": {
    "id": "yG8tMfBHiSSZ"
   },
   "outputs": [],
   "source": [
    "def from_list_to_view(time, names_list, view_name):\n",
    "    if (len(names_list)>0):\n",
    "        names_rdd = sc.parallelize(names_list)\n",
    "        spark = get_spark_session(names_rdd.context.getConf())\n",
    "        row_rdd = names_rdd.map(lambda w: Row(Name=w))\n",
    "        table_df = spark.createDataFrame(row_rdd)\n",
    "        table_df = table_df.createOrReplaceTempView(view_name)"
   ]
  },
  {
   "cell_type": "markdown",
   "metadata": {
    "id": "lmSsOk0sYH4B"
   },
   "source": [
    "## Contestants, host and opinionists"
   ]
  },
  {
   "cell_type": "markdown",
   "metadata": {
    "id": "zE-M8GaGiSSa"
   },
   "source": [
    "List of contestants:\n",
    "* Ainett Stephens\n",
    "* **Aldo Montano**\n",
    "* *Alessandro Basciano*: new contestant from Dec, 17\n",
    "* Alex Belli\n",
    "* Amedeo Goria\n",
    "* Andrea Casalino\n",
    "* *Barù*: new contestant from Dec, 20\n",
    "* **Biagio D'Anelli**\n",
    "* **Carmen Russo**\n",
    "* Clarissa Hailé Selassié\n",
    "* **Davide Silvestri**\n",
    "* *Eva Grimaldi*: new contestant from Dec, 17\n",
    "* *Federica Calemme*: new contestant from Dec, 17\n",
    "* Francesca Cipriani\n",
    "* **Giacomo Urtis**\n",
    "* **Gianmaria Antinolfi**\n",
    "* **Giucas Casella**\n",
    "* **Jessica Hailé Selassié**\n",
    "* Jo Squillo\n",
    "* **Katia Ricciarelli**\n",
    "* **Lucrezia \"Lulù\" Hailé Selassié**\n",
    "* **Manila Nazzaro**\n",
    "* **Manuel Bortuzzo**\n",
    "* Maria Monsé\n",
    "* **Miriana Trevisan**\n",
    "* *Nathalie Caldonazzo*: new contestant from Dec, 20\n",
    "* Nicola Pisu\n",
    "* Patrizia Pellegrino\n",
    "* Raffaella Fico\n",
    "* Samy Youssef\n",
    "* **Soleil Sorge**\n",
    "* **Sophie Codegoni**\n",
    "* Tommaso Eletti\n",
    "* **Valeria Marini**"
   ]
  },
  {
   "cell_type": "code",
   "execution_count": null,
   "metadata": {
    "id": "1w14Gq7LiSSb"
   },
   "outputs": [],
   "source": [
    "contestants = [\"Ainett\",\"Aldo\",\"Alessandro\",\"Alex\",\"Amedeo\",\"Andrea\",\"Barù\",\"Biagio\",\"Carmen\",\"Clarissa\",\"Davide\",\n",
    "               \"Eva\",\"Federica\",\"Francesca\",\"Giacomo\",\"Gianmaria\",\"Giucas\",\"Jessica\", \"Jo\",\"Katia\",\"Lulù\",\n",
    "               \"Manila\",\"Manuel\",\"Maria\",\"Miriana\",\"Nathalie\",\"Nicola\",\"Patrizia\",\"Raffaella\",\"Samy\",\"Soleil\",\n",
    "               \"Sophie\",\"Valeria\"]\n",
    "from_list_to_view(time, contestants, \"contestants_df\")"
   ]
  },
  {
   "cell_type": "markdown",
   "metadata": {
    "id": "SIbmXCt0iSSe"
   },
   "source": [
    "List of opinionists and the host:\n",
    "* **Alfonso Signorini**: host\n",
    "* **Adriana Volpe**: opinionist\n",
    "* **Sonia Bruganelli**: opinionist"
   ]
  },
  {
   "cell_type": "code",
   "execution_count": null,
   "metadata": {
    "id": "0m3luEsmiSSh"
   },
   "outputs": [],
   "source": [
    "opinionists = [\"Adriana\", \"Sonia\", \"Alfonso\"]\n",
    "from_list_to_view(time, opinionists, \"opinionists_df\")"
   ]
  },
  {
   "cell_type": "markdown",
   "metadata": {
    "id": "XElRVH48UyQe"
   },
   "source": [
    "Dictionary with surnames, nicknames, aliases."
   ]
  },
  {
   "cell_type": "code",
   "execution_count": null,
   "metadata": {
    "id": "gCB2kFo0iSSj"
   },
   "outputs": [],
   "source": [
    "full_names = {\"Stephens\":\"Ainett\",\"Ainettstephens\":\"Ainett\",\"Ainettstephens\":\"Ainett\",\n",
    "             \"Montano\":\"Aldo\",\"Aldomontano\":\"Aldo\",\"Aldomontano0586\":\"Aldo\",\n",
    "             \"Basciano\":\"Alessandro\",\"Alessandrobasciano\":\"Alessandro\",\n",
    "             \"Belli\":\"Alex\",\"Alexbelli\":\"Alex\",\"Belliproduction\":\"Alex\",\n",
    "             \"Goria\":\"Amedeo\",\"Amedeogoria\":\"Amedeo\",\"Goriaamedeo\":\"Amedeo\",\n",
    "             \"Casalino\":\"Andrea\",\"Andreacasalino\":\"Andrea\",\n",
    "             \"Gaetani\":\"Barù\",\"Gherardo\":\"Barù\",\"Baru\":\"Barù\",\n",
    "             \"Danelli\":\"Biagio\",\"Biagiodanelli\":\"Biagio\",\n",
    "             \"Russo\":\"Carmen\",\"Carmenrusso\":\"Carmen\",\n",
    "             \"Silvestri\":\"Davide\",\"Davidesilvestri\":\"Davide\",\n",
    "             \"Grimaldi\":\"Eva\",\"Evagrimaldi\":\"Eva\",\"Evagrimaldi1\":\"Eva\",\n",
    "             \"Calemme\":\"Federica\",\"Federicacalemme\":\"Federica\",\n",
    "             \"Cipriani\":\"Francesca\",\"Francescacipriani\":\"Francesca\",\"Cipri\":\"Francesca\",\n",
    "             \"Antinolfi\":\"Gianmaria\",\"Gianmariaantinolfi\":\"Gianmaria\",\"Gianma\":\"Gianmaria\",\n",
    "             \"Casella\":\"Giucas\",\"Giucascasella\":\"Giucas\",\n",
    "             \"Squillo\":\"Jo\",\"Josquillo\":\"Jo\",\n",
    "             \"Ricciarelli\":\"Katia\",\"Katiaricciarelli\":\"Katia\",\n",
    "             \"Nazzaro\":\"Manila\",\"Manilanazzaro\":\"Manila\",\n",
    "             \"Bortuzzo\":\"Manuel\",\"Manuelbortuzzo\":\"Manuel\",\"Manu\":\"Manuel\",\n",
    "             \"Monsé\":\"Maria\",\"Monsè\":\"Maria\",\"Monse\":\"Maria\",\"Mariamonse\":\"Maria\",\n",
    "             \"Trevisan\":\"Miriana\",\"Mirianatrevisan\":\"Miriana\",\"Miri\":\"Miriana\",\n",
    "             \"Caldonazzo\":\"Nathalie\",\"Nathaliecaldonazzo\":\"Nathalie\",\n",
    "             \"Pisu\":\"Nicola\",\"Nicolapisu\":\"Nicola\",\n",
    "             \"Pellegrino\":\"Patrizia\",\"Patriziapellegrino\":\"Patrizia\",\n",
    "             \"Fico\":\"Raffaella\",\"Raffaellafico\":\"Raffaella\",\n",
    "             \"Youssef\":\"Samy\",\"Samyyoussef\":\"Samy\",\n",
    "             \"Sorge\":\"Soleil\",\"Soleilsorge\":\"Soleil\",\"Soleilstasi\":\"Soleil\",\n",
    "             \"Codegoni\":\"Sophie\",\"Sophiecodegoni\":\"Sophie\",\n",
    "             \"Marini\":\"Valeria\",\"Valeriamarini\":\"Valeria\",\"Valeriamarinivm\":\"Valeria\",\n",
    "             \"Urtis\":\"Giacomo\",\"Giacomourtis\":\"Giacomo\",\n",
    "             \"Volpe\":\"Adriana\",\"Adrianavolpe\":\"Adriana\",\"Adri\":\"Adriana\",\"Adrianavolpetv\":\"Adriana\",\n",
    "             \"Bruganelli\":\"Sonia\",\"Soniabruganelli\":\"Sonia\",\"Sbruganelli\":\"Sonia\",\n",
    "             \"Signorini\":\"Alfonso\",\"Alfonsosignorini\":\"Alfonso\",\"Alfosignorini\":\"Alfonso\",\n",
    "             \"Alfo\":\"Alfonso\",\"Alfi\":\"Alfonso\"}"
   ]
  },
  {
   "cell_type": "markdown",
   "metadata": {
    "id": "UFa4T_f4wpj4"
   },
   "source": [
    "## Discretized Stream"
   ]
  },
  {
   "cell_type": "code",
   "execution_count": null,
   "metadata": {
    "id": "AbZxsVIJiSSm"
   },
   "outputs": [],
   "source": [
    "keywords = contestants + opinionists"
   ]
  },
  {
   "cell_type": "code",
   "execution_count": null,
   "metadata": {
    "id": "vXODqtxsiSSn"
   },
   "outputs": [],
   "source": [
    "lines.flatMap(lambda text: text.split()) \\\n",
    "        .map(lambda word: change_name(clean_hashtag(word))) \\\n",
    "        .filter(lambda word: word in keywords) \\\n",
    "        .map(lambda word: (word, 1)) \\\n",
    "        .updateStateByKey(aggregate_count) \\\n",
    "        .foreachRDD(process_rdd)"
   ]
  },
  {
   "cell_type": "markdown",
   "metadata": {
    "id": "I4qHIXX_w3Am"
   },
   "source": [
    "## Start Streaming\n",
    "\n",
    "Start the script *tweets_stream.py* from the terminal, write the topic you want to monitor (*gfvip*), then start streaming."
   ]
  },
  {
   "cell_type": "code",
   "execution_count": null,
   "metadata": {
    "colab": {
     "base_uri": "https://localhost:8080/",
     "height": 220
    },
    "id": "_o5d1GpqcYg5",
    "outputId": "1689fed3-8023-4d9b-9e3a-54d1921d21b1"
   },
   "outputs": [
    {
     "name": "stdout",
     "output_type": "stream",
     "text": [
      "Start tweeet analysis...\n"
     ]
    }
   ],
   "source": [
    "ssc.start()\n",
    "\n",
    "print(\"Start tweeet analysis...\")\n",
    "start = dt.datetime.now()"
   ]
  },
  {
   "cell_type": "markdown",
   "metadata": {
    "id": "O9TrCLk6xJMV"
   },
   "source": [
    "## Tweet counter"
   ]
  },
  {
   "cell_type": "code",
   "execution_count": null,
   "metadata": {
    "id": "8H39fTiDYH4N"
   },
   "outputs": [],
   "source": [
    "def tweet_analysis(query, fig_name, figsize=(14,12), palette=None, title=None):\n",
    "    df_top = get_spark_session(sc).sql(query)\n",
    "    df_top.show()\n",
    "    df_top_pd = df_top.toPandas()\n",
    "\n",
    "    plt.figure(figsize=figsize)\n",
    "    sns.barplot(x=\"Count\", y=\"Name\", data=df_top_pd, palette=palette).set(title=title)\n",
    "    plt.grid()\n",
    "    plt.savefig(fig_name)\n",
    "    plt.show()"
   ]
  },
  {
   "cell_type": "markdown",
   "metadata": {
    "id": "LqDZBZSLYH4L"
   },
   "source": [
    "### Query"
   ]
  },
  {
   "cell_type": "code",
   "execution_count": null,
   "metadata": {
    "id": "J0EG04u_iSSu"
   },
   "outputs": [],
   "source": [
    "query_tweet_contestants = \"SELECT * FROM TempView \\\n",
    "                            WHERE Name IN \\\n",
    "                                (SELECT Name FROM contestants_df) \\\n",
    "                            ORDER BY count DESC \\\n",
    "                            LIMIT 15\""
   ]
  },
  {
   "cell_type": "code",
   "execution_count": null,
   "metadata": {
    "id": "073Jzkb8iSS0"
   },
   "outputs": [],
   "source": [
    "query_tweet_opinionists = \"SELECT * FROM TempView \\\n",
    "                            WHERE Name IN \\\n",
    "                                (SELECT Name FROM opinionists_df) \\\n",
    "                            ORDER BY count DESC\""
   ]
  },
  {
   "cell_type": "markdown",
   "metadata": {
    "id": "aEJzwCT9YH4N"
   },
   "source": [
    "### Tweet analysis - Friday, December 17"
   ]
  },
  {
   "cell_type": "code",
   "execution_count": null,
   "metadata": {
    "colab": {
     "base_uri": "https://localhost:8080/",
     "height": 220
    },
    "id": "PKJPj1lNcvZ3",
    "outputId": "b51c20a8-2e23-4a5c-ac46-39cc1003cb81",
    "scrolled": false
   },
   "outputs": [
    {
     "name": "stdout",
     "output_type": "stream",
     "text": [
      "Start tweet analysis: 2021-12-17 21:05:14\n",
      "Last update: 2021-12-18 01:37:23\n",
      "Elapsed time: 4 hours, 32 minutes, 9 seconds\n",
      "+----------+-----+\n",
      "|      Name|Count|\n",
      "+----------+-----+\n",
      "|      Alex|10596|\n",
      "|    Soleil| 9507|\n",
      "|      Aldo| 5490|\n",
      "|   Miriana| 4049|\n",
      "|    Sophie| 2732|\n",
      "|    Manuel| 2571|\n",
      "|    Biagio| 2139|\n",
      "| Gianmaria| 1937|\n",
      "|       Eva| 1596|\n",
      "|Alessandro| 1562|\n",
      "|     Katia| 1140|\n",
      "|   Jessica| 1083|\n",
      "|    Davide| 1048|\n",
      "|    Giucas| 1019|\n",
      "|    Manila|  971|\n",
      "+----------+-----+\n",
      "\n"
     ]
    },
    {
     "data": {
      "image/png": "[encoded data removed]",
      "text/plain": [
       "<Figure size 1008x864 with 1 Axes>"
      ]
     },
     "metadata": {
      "needs_background": "light"
     },
     "output_type": "display_data"
    },
    {
     "name": "stdout",
     "output_type": "stream",
     "text": [
      "+-------+-----+\n",
      "|   Name|Count|\n",
      "+-------+-----+\n",
      "|Alfonso| 2252|\n",
      "|  Sonia|  759|\n",
      "|Adriana|  404|\n",
      "+-------+-----+\n",
      "\n"
     ]
    },
    {
     "data": {
      "image/png": "[encoded data removed]",
      "text/plain": [
       "<Figure size 864x288 with 1 Axes>"
      ]
     },
     "metadata": {
      "needs_background": "light"
     },
     "output_type": "display_data"
    }
   ],
   "source": [
    "print_timedelta(start)\n",
    "\n",
    "# Tweet analysis of the contestants\n",
    "tweet_analysis(query_tweet_contestants, fig_cont_frid, palette=\"Blues_d\",\n",
    "               title=\"The Top 15 most tweeted GFVIP contestants\")\n",
    "\n",
    "# Tweet analysis of the opinionist and the host\n",
    "tweet_analysis(query_tweet_opinionists, fig_opin_frid, figsize=(12,4), palette=\"Greens_d\", \n",
    "               title=\"Tweet counter: opinionists and host\")"
   ]
  },
  {
   "cell_type": "code",
   "execution_count": null,
   "metadata": {
    "id": "_757DbGZcqKY"
   },
   "outputs": [],
   "source": [
    "#ssc.stop()\n",
    "#!sudo kill $(sudo lsof -t -i:9999)"
   ]
  },
  {
   "cell_type": "markdown",
   "metadata": {
    "id": "GTfNGN01cqKZ"
   },
   "source": [
    "### Tweet analysis - Monday, December 20"
   ]
  },
  {
   "cell_type": "code",
   "execution_count": null,
   "metadata": {
    "id": "-NiQs-tNYH4P",
    "outputId": "2503a6d7-381e-418f-a368-58e996fbdf0f"
   },
   "outputs": [
    {
     "name": "stdout",
     "output_type": "stream",
     "text": [
      "Start tweet analysis: 2021-12-20 21:28:45\n",
      "Last update: 2021-12-21 01:39:55\n",
      "Elapsed time: 4 hours, 11 minutes, 10 seconds\n",
      "+----------+-----+\n",
      "|      Name|Count|\n",
      "+----------+-----+\n",
      "|    Soleil| 8517|\n",
      "|      Alex| 7346|\n",
      "|      Aldo| 3469|\n",
      "|      Lulù| 2433|\n",
      "|   Miriana| 2163|\n",
      "|    Manuel| 2006|\n",
      "|Alessandro| 1900|\n",
      "|   Giacomo| 1370|\n",
      "|       Eva| 1350|\n",
      "|   Jessica| 1283|\n",
      "|    Carmen| 1252|\n",
      "|   Valeria| 1041|\n",
      "|    Sophie| 1026|\n",
      "|    Biagio| 1010|\n",
      "| Gianmaria| 1006|\n",
      "+----------+-----+\n",
      "\n"
     ]
    },
    {
     "data": {
      "image/png": "[encoded data removed]",
      "text/plain": [
       "<Figure size 1008x864 with 1 Axes>"
      ]
     },
     "metadata": {
      "needs_background": "light"
     },
     "output_type": "display_data"
    },
    {
     "name": "stdout",
     "output_type": "stream",
     "text": [
      "+-------+-----+\n",
      "|   Name|Count|\n",
      "+-------+-----+\n",
      "|  Sonia|10124|\n",
      "|Alfonso| 4837|\n",
      "|Adriana| 1827|\n",
      "+-------+-----+\n",
      "\n"
     ]
    },
    {
     "data": {
      "image/png": "[encoded data removed]",
      "text/plain": [
       "<Figure size 864x288 with 1 Axes>"
      ]
     },
     "metadata": {
      "needs_background": "light"
     },
     "output_type": "display_data"
    }
   ],
   "source": [
    "print_timedelta(start)\n",
    "\n",
    "# Tweet analysis of the contestants\n",
    "tweet_analysis(query_tweet_contestants, fig_cont_mond, palette=\"Reds_d\",\n",
    "               title=\"The Top 15 most tweeted GFVIP contestants\")\n",
    "\n",
    "# Tweet analysis of the opinionist and the host\n",
    "tweet_analysis(query_tweet_opinionists, fig_opin_mond, figsize=(12,4), palette=\"Purples_d\", \n",
    "               title=\"Tweet counter: opinionists and host\")"
   ]
  },
  {
   "cell_type": "code",
   "execution_count": null,
   "metadata": {
    "id": "Hn--P2dqYH4Q"
   },
   "outputs": [],
   "source": [
    "#ssc.stop()\n",
    "#!sudo kill $(sudo lsof -t -i:9999)"
   ]
  },
  {
   "cell_type": "code",
   "execution_count": null,
   "metadata": {
    "id": "EBGp4-KOYH4Q"
   },
   "outputs": [],
   "source": []
  },
  {
   "cell_type": "code",
   "execution_count": null,
   "metadata": {
    "id": "HItmkWfQYH4Q"
   },
   "outputs": [],
   "source": []
  },
  {
   "cell_type": "code",
   "execution_count": null,
   "metadata": {
    "id": "NfCE81VhYH4R"
   },
   "outputs": [],
   "source": []
  }
 ],
 "metadata": {
  "colab": {
   "collapsed_sections": [],
   "name": "GFVIP_lun_ven.ipynb",
   "provenance": []
  },
  "kernelspec": {
   "display_name": "Python 3 (ipykernel)",
   "language": "python",
   "name": "python3"
  },
  "language_info": {
   "codemirror_mode": {
    "name": "ipython",
    "version": 3
   },
   "file_extension": ".py",
   "mimetype": "text/x-python",
   "name": "python",
   "nbconvert_exporter": "python",
   "pygments_lexer": "ipython3",
   "version": "3.9.7"
  }
 },
 "nbformat": 4,
 "nbformat_minor": 1
}
