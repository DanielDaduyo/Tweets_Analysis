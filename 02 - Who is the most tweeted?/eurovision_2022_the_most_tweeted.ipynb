{
 "cells": [
  {
   "cell_type": "markdown",
   "metadata": {
    "id": "Se1lhnKoUZPV"
   },
   "source": [
    "# Real-time Tweet Analysis: Eurovision Song Contest 2022 - Final",
    "\n",
    "**GOAL**: Find the most tweeted countries from the show **Eurovision Song Contest**, inside the official hashtag #Eurovision.\n",
    "\n",
    "During the course of the show, the following code will evaluate the most tweeted countries within the official hashtag of the program.\n",
    "\n",
    "\n",
    "\n",
    "**NOTES**:\n",
    "* The following code will evaluate tweets in these languages: English, French, Italian, Dutch, Spanish, Portuguese.\n",
    "* The following notebook is for educational purposes only.\n",
    "* The project is still subject to checks and modifications. Additions and corrections will be made for future analysis."
   ]
  },
  {
   "cell_type": "markdown",
   "metadata": {
    "id": "SZUOz7xriSRv"
   },
   "source": [
    "## Libraries"
   ]
  },
  {
   "cell_type": "code",
   "execution_count": 1,
   "metadata": {
    "id": "taF6YJqCiSRx",
    "scrolled": true
   },
   "outputs": [],
   "source": [
    "from pyspark import SparkContext\n",
    "from pyspark.sql import SparkSession, Row\n",
    "from pyspark.streaming import StreamingContext\n",
    "from time import time\n",
    "import datetime as dt\n",
    "import string\n",
    "import seaborn as sns\n",
    "import matplotlib.pyplot as plt"
   ]
  },
  {
   "cell_type": "markdown",
   "metadata": {
    "id": "yEY0H7vrYH3s"
   },
   "source": [
    "## Variables"
   ]
  },
  {
   "cell_type": "code",
   "execution_count": 56,
   "metadata": {
    "id": "j5Rw2fOnYH3u",
    "scrolled": true
   },
   "outputs": [],
   "source": [
    "BATCH_DURATION = 5\n",
    "PORT = 9999\n",
    "hostname = \"localhost\"\n",
    "checkpoint = \"/home/daniel/checkpoint\"\n",
    "fig_esc_before = \"res/Eurovision_before.jpg\"\n",
    "fig_esc_after = \"res/Eurovision_after.jpg\"\n",
    "pd_save = \"res/Eurovision.csv\""
   ]
  },
  {
   "cell_type": "markdown",
   "metadata": {
    "id": "I15BfO1HUyP-"
   },
   "source": [
    "## Spark instance and Streaming Context"
   ]
  },
  {
   "cell_type": "code",
   "execution_count": 3,
   "metadata": {
    "id": "GJ7nkS4tb3RT",
    "scrolled": true
   },
   "outputs": [],
   "source": [
    "sc = SparkContext()\n",
    "ssc = StreamingContext(sc, BATCH_DURATION)\n",
    "ssc.checkpoint(checkpoint)\n",
    "lines = ssc.socketTextStream(hostname, PORT)"
   ]
  },
  {
   "cell_type": "markdown",
   "metadata": {
    "id": "TJB5-gJSiSSL"
   },
   "source": [
    "## Spark Session"
   ]
  },
  {
   "cell_type": "code",
   "execution_count": 4,
   "metadata": {
    "id": "7SRqxWNbuQtQ",
    "scrolled": true
   },
   "outputs": [],
   "source": [
    "def get_spark_session(spark_context):\n",
    "    if (\"sqlContextSingletonInstance\" not in globals()):\n",
    "        globals()[\"sqlContextSingletonInstance\"] = SparkSession \\\n",
    "                            .builder \\\n",
    "                            .config(conf=spark_context) \\\n",
    "                            .getOrCreate()\n",
    "    return globals()[\"sqlContextSingletonInstance\"]"
   ]
  },
  {
   "cell_type": "markdown",
   "metadata": {
    "id": "qcwxgmUtiSR6"
   },
   "source": [
    "## Data preprocessing"
   ]
  },
  {
   "cell_type": "code",
   "execution_count": 5,
   "metadata": {
    "id": "nz9ZD4c_uFE-",
    "scrolled": true
   },
   "outputs": [],
   "source": [
    "def aggregate_count(new_values, total_sum):\n",
    "    return sum(new_values) + (total_sum or 0)"
   ]
  },
  {
   "cell_type": "code",
   "execution_count": 6,
   "metadata": {
    "id": "CtVuzRaCuJsz",
    "scrolled": true
   },
   "outputs": [],
   "source": [
    "# Remove any hashtags and punctuation and make the word lowercase with the first letter uppercase\n",
    "def clean_hashtag(word):\n",
    "    return word.lower().capitalize().translate(str.maketrans('', '', string.punctuation))"
   ]
  },
  {
   "cell_type": "code",
   "execution_count": 7,
   "metadata": {
    "id": "3qx11qA8iSSB",
    "scrolled": true
   },
   "outputs": [],
   "source": [
    "# Replace surnames or aliases with the names in the list\n",
    "def change_name(name):\n",
    "    if name in list(translation.keys()):\n",
    "        return translation[name]\n",
    "    else:\n",
    "        return name"
   ]
  },
  {
   "cell_type": "markdown",
   "metadata": {
    "id": "86HiJLfAiSSE"
   },
   "source": [
    "## Timestamp"
   ]
  },
  {
   "cell_type": "code",
   "execution_count": 8,
   "metadata": {
    "id": "N_EoY_SJiSSI",
    "scrolled": true
   },
   "outputs": [],
   "source": [
    "def format_timestamp(x):\n",
    "    return x.strftime(\"%Y-%m-%d %H:%M:%S\")"
   ]
  },
  {
   "cell_type": "code",
   "execution_count": 9,
   "metadata": {
    "id": "ZxPEWPMkYH39",
    "scrolled": true
   },
   "outputs": [],
   "source": [
    "def print_timedelta(date_start):\n",
    "    print(\"Start tweet analysis: \" + format_timestamp(date_start))\n",
    "    date_now = dt.datetime.now()\n",
    "    print(\"Last update: \" + format_timestamp(date_now))\n",
    "    delta = date_now - date_start\n",
    "    delta_seconds = delta.seconds\n",
    "    delta_hours = delta_seconds/3600\n",
    "    delta_minutes = (delta_seconds/60)%60\n",
    "    delta_seconds = delta_seconds%60\n",
    "    if delta.days!=0:\n",
    "        print(\"Elapsed time: %d days, %d hours, %d minutes, %d seconds\" \n",
    "                % (delta.days, delta_hours, delta_minutes, delta_seconds))\n",
    "    else:\n",
    "        print(\"Elapsed time: %d hours, %d minutes, %d seconds\" \n",
    "                % (delta_hours, delta_minutes, delta_seconds))"
   ]
  },
  {
   "cell_type": "markdown",
   "metadata": {
    "id": "UIoVKA25iSSO"
   },
   "source": [
    "## RDD processing"
   ]
  },
  {
   "cell_type": "code",
   "execution_count": 10,
   "metadata": {
    "id": "iNCyEz0scDlQ",
    "scrolled": true
   },
   "outputs": [],
   "source": [
    "def process_rdd(time, rdd):\n",
    "    if (rdd.count()>0):\n",
    "        spark = get_spark_session(rdd.context.getConf())\n",
    "        row_rdd = rdd.map(lambda w: Row(Country=w[0], Count=w[1]))\n",
    "        table_df = spark.createDataFrame(row_rdd)\n",
    "        table_df = table_df.createOrReplaceTempView(\"TempView\")"
   ]
  },
  {
   "cell_type": "code",
   "execution_count": 11,
   "metadata": {
    "id": "yG8tMfBHiSSZ",
    "scrolled": true
   },
   "outputs": [],
   "source": [
    "def from_list_to_view(time, names_list, view_name):\n",
    "    if (len(names_list)>0):\n",
    "        names_rdd = sc.parallelize(names_list)\n",
    "        spark = get_spark_session(names_rdd.context.getConf())\n",
    "        row_rdd = names_rdd.map(lambda w: Row(Country=w))\n",
    "        table_df = spark.createDataFrame(row_rdd)\n",
    "        table_df = table_df.createOrReplaceTempView(view_name)"
   ]
  },
  {
   "cell_type": "markdown",
   "metadata": {
    "id": "lmSsOk0sYH4B"
   },
   "source": [
    "## Countries"
   ]
  },
  {
   "cell_type": "markdown",
   "metadata": {
    "id": "zE-M8GaGiSSa"
   },
   "source": [
    "List of contestants."
   ]
  },
  {
   "cell_type": "code",
   "execution_count": 12,
   "metadata": {
    "id": "1w14Gq7LiSSb",
    "scrolled": true
   },
   "outputs": [],
   "source": [
    "countries = [\"Albania\", \"Armenia\", \"Australia\", \"Austria\", \"Azerbaijan\", \"Belgium\", \"Bulgaria\", \n",
    "             \"Croatia\", \"Cyprus\", \"Czech_Republic\", \"Denmark\", \"Estonia\",\"Finland\", \"France\", \n",
    "             \"Germany\", \"Georgia\", \"Greece\", \"Iceland\", \"Ireland\", \"Israel\", \"Italy\",\n",
    "             \"Latvia\", \"Lithuania\", \"Malta\", \"Moldova\", \"Montenegro\", \"Netherlands\", \"North_Macedonia\", \n",
    "             \"Norway\", \"Poland\", \"Portugal\", \"Romania\", \"San_Marino\", \"Serbia\", \"Slovenia\", \n",
    "             \"Spain\", \"Sweden\", \"Switzerland\", \"United_Kingdom\", \"Ukraine\"]\n",
    "from_list_to_view(time, countries, \"countries_df\")"
   ]
  },
  {
   "cell_type": "markdown",
   "metadata": {
    "id": "XElRVH48UyQe"
   },
   "source": [
    "Dictionary with translation in: English, French, Italian, Dutch, Spanish, Portuguese."
   ]
  },
  {
   "cell_type": "code",
   "execution_count": 13,
   "metadata": {
    "id": "gCB2kFo0iSSj",
    "scrolled": true
   },
   "outputs": [],
   "source": [
    "translation = {\"Albanien\":\"Albania\",\"Albanie\":\"Albania\",\n",
    "              \"Armenien\":\"Armenia\", \"Armenie\":\"Armenia\",\n",
    "              \"Australien\":\"Australia\",\"Australie\":\"Australia\",\n",
    "              \"Osterreich\":\"Austria\",\"Autriche\":\"Austria\", \n",
    "              \"Aserbaidschan\":\"Azerbaijan\",\"Azerbaijao\":\"Azerbaijan\",\"Azerbaiyan\":\"Azerbaijan\",\n",
    "              \"Azerbaidjan\":\"Azerbaijan\",\"Azerbaigian\":\"Azerbaijan\", \n",
    "              \"Belgien\":\"Belgium\", \"Belgica\":\"Belgium\",\"Belgique\":\"Belgium\",\"Belgio\":\"Belgium\", \n",
    "              \"Bulgarien\":\"Bulgaria\",\"Bulgarie\":\"Bulgaria\", \n",
    "              \"Kroatien\":\"Croatia\",\"Croacia\":\"Croatia\",\"Croatie\":\"Croatia\",\"Croazia\":\"Croatia\", \n",
    "              \"Zypern\":\"Cyprus\",\"Chipre\":\"Cyprus\",\"Chypre\":\"Cyprus\",\"Cipro\":\"Cyprus\", \n",
    "              \"Tschechien\":\"Czech_Republic\",\"Chequia\":\"Czech_Republic\",\"Checa\":\"Czech_Republic\",\n",
    "              \"Tchequie\":\"Czech_Republic\",\"Ceca\":\"Czech_Republic\",\"Czech\":\"Czech_Republic\", \n",
    "              \"Dinamarca\":\"Denmark\", \"Danemark\":\"Denmark\",\"Danimarca\":\"Denmark\", \n",
    "              \"Estland\":\"Estonia\",\"Estonie\":\"Estonia\",\n",
    "              \"Finnland\":\"Finland\",\"Finlande\":\"Finland\",\"Finlandia\":\"Finland\", \n",
    "              \"Frankreich\":\"France\",\"Franca\":\"France\",\"Francia\":\"France\", \n",
    "              \"Georgien\":\"Georgia\",\"Georgie\":\"Georgia\",\n",
    "              \"Deutschland\":\"Germany\",\"Alemanha\":\"Germany\",\"Alemania\":\"Germany\",\n",
    "              \"Allemagne\":\"Germany\",\"Germania\":\"Germany\", \n",
    "              \"Griechenland\":\"Greece\",\"Grece\":\"Greece\", \"Grecia\":\"Greece\", \n",
    "              \"Island\":\"Iceland\",\"Islandia\":\"Iceland\",\"Islande\":\"Iceland\", \"Islanda\":\"Iceland\", \n",
    "              \"Irland\":\"Ireland\",\"Irlanda\":\"Ireland\", \n",
    "              \"Israele\":\"Israel\", \n",
    "              \"Italien\":\"Italy\",\"Italie\":\"Italy\",\"Italia\":\"Italy\",\n",
    "              \"Lettland\":\"Latvia\",\"Letonia\":\"Latvia\", \"Lettonie\":\"Latvia\",\"Lettonia\":\"Latvia\", \n",
    "              \"Litauen\":\"Lithuania\",\"Lituanie\":\"Lithuania\", \"Lituania\":\"Lithuania\", \n",
    "              \"Malte\":\"Malta\", \n",
    "              \"Moldau\":\"Moldova\",\"Moldavie\":\"Moldova\", \"Moldavia\":\"Moldova\", \n",
    "              \"Niederlande\":\"Nethelands\",\"Baixos\":\"Netherlands\",\"Bajos\":\"Netherlands\",\n",
    "              \"Paysbas\":\"Netherlands\", \"Bassi\":\"Netherlands\", \n",
    "              \"Nordmazedonien\":\"North_Macedonia\",\"Macedoine\":\"North_Macedonia\", \"Macedonia\":\"North_Macedonia\", \n",
    "              \"Norwegen\":\"Norway\",\"Noruega\":\"Norway\",\"Norvege\":\"Norway\",\"Norvegia\":\"Norway\", \n",
    "              \"Polen\":\"Poland\",\"Pologne\":\"Poland\", \"Polonia\":\"Poland\", \n",
    "              \"Portogallo\":\"Portugal\", \n",
    "              \"Rumanien\":\"Romania\",\"Romenia\":\"Romania\", \"Rumania\":\"Romania\",\"Roumanie\":\"Romania\", \n",
    "              \"Saintmarin\":\"San_Marino\",\"Marino\":\"San_Marino\", \n",
    "              \"Serbien\":\"Serbia\",\"Servia\":\"Serbia\", \"Serbie\":\"Serbia\", \n",
    "              \"Slowenien\":\"Slovenia\",\"Eslovenia\":\"Slovenia\",\"Slovenie\":\"Slovenia\", \n",
    "              \"Spanien\":\"Spain\",\"Espanha\":\"Spain\",\"Espana\":\"Spain\",\"Spagna\":\"Spain\", \n",
    "              \"Schweden\":\"Sweden\",\"Suecia\":\"Sweden\",\"Suede\":\"Sweden\", \"Svezia\":\"Sweden\", \n",
    "              \"Schweiz\":\"Switzerland\",\"Suica\":\"Switzerland\", \"Suiza\":\"Switzerland\",\"Suisse\":\"Switzerland\", \n",
    "              \"Svizzera\":\"Switzerland\", \n",
    "              \"Vereinigtes\":\"United_Kingdom\", \"Reino\":\"United_Kingdom\", \"Royaumeuni\":\"United_Kingdom\",\n",
    "              \"Regno\":\"United_Kingdom\",\"Kingdom\":\"United_Kingdom\",\"Uk\":\"United_Kingdom\", \n",
    "              \"Ucrania\":\"Ukraine\", \"Ucraina\":\"Ukraine\"}"
   ]
  },
  {
   "cell_type": "markdown",
   "metadata": {
    "id": "UFa4T_f4wpj4"
   },
   "source": [
    "## Discretized Stream"
   ]
  },
  {
   "cell_type": "code",
   "execution_count": 14,
   "metadata": {
    "id": "vXODqtxsiSSn",
    "scrolled": true
   },
   "outputs": [],
   "source": [
    "lines.flatMap(lambda text: text.split()) \\\n",
    "        .map(lambda word: change_name(clean_hashtag(word))) \\\n",
    "        .filter(lambda word: word in countries) \\\n",
    "        .map(lambda word: (word, 1)) \\\n",
    "        .updateStateByKey(aggregate_count) \\\n",
    "        .foreachRDD(process_rdd)"
   ]
  },
  {
   "cell_type": "markdown",
   "metadata": {
    "id": "I4qHIXX_w3Am"
   },
   "source": [
    "## Start Streaming\n",
    "\n",
    "Before the beginning of the show, start the script named **tweets_stream.py** from the terminal, then start Streaming."
   ]
  },
  {
   "cell_type": "code",
   "execution_count": 15,
   "metadata": {
    "colab": {
     "base_uri": "https://localhost:8080/",
     "height": 220
    },
    "id": "_o5d1GpqcYg5",
    "outputId": "1689fed3-8023-4d9b-9e3a-54d1921d21b1",
    "scrolled": true
   },
   "outputs": [
    {
     "name": "stdout",
     "output_type": "stream",
     "text": [
      "Start tweeet analysis...\n"
     ]
    }
   ],
   "source": [
    "ssc.start()\n",
    "\n",
    "print(\"Start tweeet analysis...\")\n",
    "start = dt.datetime.now()"
   ]
  },
  {
   "cell_type": "markdown",
   "metadata": {
    "id": "O9TrCLk6xJMV"
   },
   "source": [
    "## Tweet counter"
   ]
  },
  {
   "cell_type": "markdown",
   "metadata": {
    "id": "LqDZBZSLYH4L"
   },
   "source": [
    "### Query"
   ]
  },
  {
   "cell_type": "code",
   "execution_count": 59,
   "metadata": {
    "id": "J0EG04u_iSSu",
    "scrolled": true
   },
   "outputs": [],
   "source": [
    "query_tweet_countries = \"SELECT * FROM TempView \\\n",
    "                       WHERE Country IN \\\n",
    "                           (SELECT Country FROM countries_df) \\\n",
    "                       ORDER BY count DESC\""
   ]
  },
  {
   "cell_type": "markdown",
   "metadata": {
    "id": "aEJzwCT9YH4N"
   },
   "source": [
    "### Tweet analysis"
   ]
  },
  {
   "cell_type": "code",
   "execution_count": 69,
   "metadata": {
    "id": "8H39fTiDYH4N",
    "scrolled": true
   },
   "outputs": [],
   "source": [
    "def tweet_analysis(query, fig_name, figsize=(12,10), palette=None, title=None):\n",
    "    df_top = get_spark_session(sc).sql(query)\n",
    "    df_top.show(15)\n",
    "    df_top_pd = df_top.toPandas()\n",
    "    df_top_pd.to_csv(pd_save)\n",
    "\n",
    "    plt.figure(figsize=figsize)\n",
    "    sns.barplot(x=\"Count\", y=\"Country\", data=df_top_pd.loc[0:14,:], palette=palette).set(title=title)\n",
    "    plt.grid()\n",
    "    plt.savefig(fig_name)\n",
    "    plt.show()"
   ]
  },
  {
   "cell_type": "markdown",
   "metadata": {},
   "source": [
    "Analysis before jury results"
   ]
  },
  {
   "cell_type": "code",
   "execution_count": 86,
   "metadata": {
    "colab": {
     "base_uri": "https://localhost:8080/",
     "height": 220
    },
    "id": "PKJPj1lNcvZ3",
    "outputId": "b51c20a8-2e23-4a5c-ac46-39cc1003cb81",
    "scrolled": false
   },
   "outputs": [
    {
     "name": "stdout",
     "output_type": "stream",
     "text": [
      "Start tweet analysis: 2022-05-14 20:45:31\n",
      "Last update: 2022-05-15 00:02:39\n",
      "Elapsed time: 3 hours, 17 minutes, 7 seconds\n",
      "+--------------+-----+\n",
      "|       Country|Count|\n",
      "+--------------+-----+\n",
      "|       Ukraine|10910|\n",
      "|         Spain|10243|\n",
      "|       Moldova| 9987|\n",
      "|United_Kingdom| 8625|\n",
      "|        France| 7765|\n",
      "|         Italy| 7111|\n",
      "|     Australia| 7037|\n",
      "|        Norway| 6043|\n",
      "|        Serbia| 6009|\n",
      "|      Portugal| 4216|\n",
      "|       Romania| 4205|\n",
      "|       Finland| 4161|\n",
      "|        Sweden| 4046|\n",
      "|       Armenia| 3496|\n",
      "|       Germany| 3324|\n",
      "+--------------+-----+\n",
      "only showing top 15 rows\n",
      "\n"
     ]
    },
    {
     "data": {
      "image/png": "[encoded data removed]",
      "text/plain": [
       "<Figure size 864x720 with 1 Axes>"
      ]
     },
     "metadata": {
      "needs_background": "light"
     },
     "output_type": "display_data"
    }
   ],
   "source": [
    "print_timedelta(start)\n",
    "tweet_analysis(query_tweet_countries, fig_esc_before, \n",
    "               title=\"Eurovision Song Contest: Final - Top 15 most twitted countries\")"
   ]
  },
  {
   "cell_type": "markdown",
   "metadata": {
    "id": "GTfNGN01cqKZ",
    "scrolled": true
   },
   "source": [
    "Analysis during and after the results and winner announcement"
   ]
  },
  {
   "cell_type": "code",
   "execution_count": 100,
   "metadata": {
    "id": "-NiQs-tNYH4P",
    "scrolled": false
   },
   "outputs": [
    {
     "name": "stdout",
     "output_type": "stream",
     "text": [
      "Start tweet analysis: 2022-05-14 20:45:31\n",
      "Last update: 2022-05-15 01:13:27\n",
      "Elapsed time: 4 hours, 27 minutes, 55 seconds\n",
      "+--------------+-----+\n",
      "|       Country|Count|\n",
      "+--------------+-----+\n",
      "|United_Kingdom|25591|\n",
      "|       Ukraine|24664|\n",
      "|         Spain|15906|\n",
      "|       Moldova|13042|\n",
      "|        France|11614|\n",
      "|     Australia| 9434|\n",
      "|         Italy| 9104|\n",
      "|        Serbia| 8581|\n",
      "|       Germany| 6907|\n",
      "|        Norway| 6618|\n",
      "|      Portugal| 6439|\n",
      "|        Sweden| 5724|\n",
      "|       Romania| 4958|\n",
      "|       Finland| 4549|\n",
      "|       Armenia| 4152|\n",
      "+--------------+-----+\n",
      "only showing top 15 rows\n",
      "\n"
     ]
    },
    {
     "data": {
      "image/png": "[encoded data removed]",
      "text/plain": [
       "<Figure size 864x720 with 1 Axes>"
      ]
     },
     "metadata": {
      "needs_background": "light"
     },
     "output_type": "display_data"
    }
   ],
   "source": [
    "print_timedelta(start)\n",
    "tweet_analysis(query_tweet_countries, fig_esc_after,\n",
    "               title=\"Eurovision Song Contest: Final - Top 15 most twitted countries\")"
   ]
  },
  {
   "cell_type": "code",
   "execution_count": 98,
   "metadata": {
    "id": "_757DbGZcqKY",
    "scrolled": true
   },
   "outputs": [],
   "source": [
    "#ssc.stop()\n",
    "#!sudo kill $(sudo lsof -t -i:9999)"
   ]
  },
  {
   "cell_type": "code",
   "execution_count": null,
   "metadata": {
    "id": "Hn--P2dqYH4Q",
    "scrolled": false
   },
   "outputs": [],
   "source": []
  },
  {
   "cell_type": "code",
   "execution_count": null,
   "metadata": {
    "id": "EBGp4-KOYH4Q",
    "scrolled": true
   },
   "outputs": [],
   "source": []
  },
  {
   "cell_type": "code",
   "execution_count": null,
   "metadata": {
    "id": "HItmkWfQYH4Q",
    "scrolled": true
   },
   "outputs": [],
   "source": []
  },
  {
   "cell_type": "code",
   "execution_count": null,
   "metadata": {
    "id": "NfCE81VhYH4R",
    "scrolled": true
   },
   "outputs": [],
   "source": []
  }
 ],
 "metadata": {
  "colab": {
   "collapsed_sections": [],
   "name": "GFVIP_2021_12_17.ipynb",
   "provenance": []
  },
  "kernelspec": {
   "display_name": "Python 3",
   "language": "python",
   "name": "python3"
  },
  "language_info": {
   "codemirror_mode": {
    "name": "ipython",
    "version": 3
   },
   "file_extension": ".py",
   "mimetype": "text/x-python",
   "name": "python",
   "nbconvert_exporter": "python",
   "pygments_lexer": "ipython3",
   "version": "3.9.7"
  }
 },
 "nbformat": 4,
 "nbformat_minor": 1
}
