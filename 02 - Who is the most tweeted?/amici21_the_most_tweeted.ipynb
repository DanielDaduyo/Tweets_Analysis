{
 "cells": [
  {
   "cell_type": "markdown",
   "metadata": {
    "id": "Se1lhnKoUZPV"
   },
   "source": [
    "# Live Tweet Analysis: Amici di Maria De Filippi\n",
    "\n",
    "Episode: 2021, December 19\n",
    "\n",
    "**GOAL**: Detect the most tweeted contestants of the talent show **Amici di Maria De Filippi**, split between singers and dancers, during the broadcast of the show. The same analysis will be made between the teachers.\n",
    "\n",
    "**NOTES**:\n",
    "* The show airs at 2 P.M. CET. The analysis will start before that moment."
   ]
  },
  {
   "cell_type": "markdown",
   "metadata": {
    "id": "SZUOz7xriSRv"
   },
   "source": [
    "## Required libraries"
   ]
  },
  {
   "cell_type": "code",
   "execution_count": null,
   "metadata": {
    "id": "taF6YJqCiSRx"
   },
   "outputs": [],
   "source": [
    "from pyspark import SparkContext\n",
    "from pyspark.sql import SparkSession, Row\n",
    "from pyspark.streaming import StreamingContext\n",
    "from time import time\n",
    "import datetime as dt\n",
    "import string\n",
    "import seaborn as sns\n",
    "import matplotlib.pyplot as plt"
   ]
  },
  {
   "cell_type": "markdown",
   "metadata": {
    "id": "yEY0H7vrYH3s"
   },
   "source": [
    "## Variables"
   ]
  },
  {
   "cell_type": "code",
   "execution_count": null,
   "metadata": {
    "id": "j5Rw2fOnYH3u"
   },
   "outputs": [],
   "source": [
    "BATCH_DURATION = 5\n",
    "PORT = 9999\n",
    "hostname = \"localhost\"\n",
    "checkpoint = \"/home/daniel/checkpoint\"\n",
    "fig_sing = \"output/Amici21_12_19_sing\"\n",
    "fig_dance = \"output/Amici21_12_19_dance\"\n",
    "fig_teach = \"output/Amici21_12_19_teach\""
   ]
  },
  {
   "cell_type": "markdown",
   "metadata": {
    "id": "I15BfO1HUyP-"
   },
   "source": [
    "## Spark instance and Streaming Context"
   ]
  },
  {
   "cell_type": "code",
   "execution_count": null,
   "metadata": {
    "id": "GJ7nkS4tb3RT"
   },
   "outputs": [],
   "source": [
    "sc = SparkContext()\n",
    "ssc = StreamingContext(sc, BATCH_DURATION)\n",
    "ssc.checkpoint(checkpoint)\n",
    "lines = ssc.socketTextStream(hostname, PORT)"
   ]
  },
  {
   "cell_type": "markdown",
   "metadata": {
    "id": "TJB5-gJSiSSL"
   },
   "source": [
    "## Spark Session"
   ]
  },
  {
   "cell_type": "code",
   "execution_count": null,
   "metadata": {
    "id": "7SRqxWNbuQtQ"
   },
   "outputs": [],
   "source": [
    "def get_spark_session(spark_context):\n",
    "    if (\"sqlContextSingletonInstance\" not in globals()):\n",
    "        globals()[\"sqlContextSingletonInstance\"] = SparkSession \\\n",
    "                            .builder \\\n",
    "                            .config(conf=spark_context) \\\n",
    "                            .getOrCreate()\n",
    "    return globals()[\"sqlContextSingletonInstance\"]"
   ]
  },
  {
   "cell_type": "markdown",
   "metadata": {
    "id": "qcwxgmUtiSR6"
   },
   "source": [
    "## Data preprocessing"
   ]
  },
  {
   "cell_type": "code",
   "execution_count": null,
   "metadata": {
    "id": "nz9ZD4c_uFE-"
   },
   "outputs": [],
   "source": [
    "def aggregate_count(new_values, total_sum):\n",
    "    return sum(new_values) + (total_sum or 0)"
   ]
  },
  {
   "cell_type": "code",
   "execution_count": null,
   "metadata": {
    "id": "CtVuzRaCuJsz"
   },
   "outputs": [],
   "source": [
    "# Remove any hashtags and punctuation and make the word lowercase with the first letter uppercase\n",
    "def clean_hashtag(word):\n",
    "    return word.lower().capitalize().translate(str.maketrans('', '', string.punctuation))"
   ]
  },
  {
   "cell_type": "code",
   "execution_count": null,
   "metadata": {
    "id": "3qx11qA8iSSB"
   },
   "outputs": [],
   "source": [
    "# Replace surnames or aliases with the names in the list\n",
    "def change_name(name):\n",
    "    if name in list(full_names.keys()):\n",
    "        return full_names[name]\n",
    "    else:\n",
    "        return name"
   ]
  },
  {
   "cell_type": "markdown",
   "metadata": {
    "id": "86HiJLfAiSSE"
   },
   "source": [
    "## Timestamp"
   ]
  },
  {
   "cell_type": "code",
   "execution_count": null,
   "metadata": {
    "id": "N_EoY_SJiSSI"
   },
   "outputs": [],
   "source": [
    "def format_timestamp(x):\n",
    "    return x.strftime(\"%Y-%m-%d %H:%M:%S\")"
   ]
  },
  {
   "cell_type": "code",
   "execution_count": null,
   "metadata": {
    "id": "ZxPEWPMkYH39"
   },
   "outputs": [],
   "source": [
    "def print_timedelta(date_start):\n",
    "    print(\"Start tweet analysis: \" + format_timestamp(date_start))\n",
    "    date_now = dt.datetime.now()\n",
    "    print(\"Last update: \" + format_timestamp(date_now))\n",
    "    delta = date_now - date_start\n",
    "    delta_seconds = delta.seconds\n",
    "    delta_hours = delta_seconds/3600\n",
    "    delta_minutes = (delta_seconds/60)%60\n",
    "    delta_seconds = delta_seconds%60\n",
    "    if delta.days!=0:\n",
    "        print(\"Elapsed time: %d days, %d hours, %d minutes, %d seconds\" \n",
    "                % (delta.days, delta_hours, delta_minutes, delta_seconds))\n",
    "    else:\n",
    "        print(\"Elapsed time: %d hours, %d minutes, %d seconds\" \n",
    "                % (delta_hours, delta_minutes, delta_seconds))"
   ]
  },
  {
   "cell_type": "markdown",
   "metadata": {
    "id": "UIoVKA25iSSO"
   },
   "source": [
    "## RDD processing"
   ]
  },
  {
   "cell_type": "code",
   "execution_count": null,
   "metadata": {
    "id": "iNCyEz0scDlQ"
   },
   "outputs": [],
   "source": [
    "def process_rdd(time, rdd):\n",
    "    if (rdd.count()>0):\n",
    "        spark = get_spark_session(rdd.context.getConf())\n",
    "        row_rdd = rdd.map(lambda w: Row(Name=w[0], Count=w[1]))\n",
    "        table_df = spark.createDataFrame(row_rdd)\n",
    "        table_df = table_df.createOrReplaceTempView(\"TempView\")"
   ]
  },
  {
   "cell_type": "code",
   "execution_count": null,
   "metadata": {
    "id": "yG8tMfBHiSSZ"
   },
   "outputs": [],
   "source": [
    "def from_list_to_view(time, names_list, view_name):\n",
    "    if (len(names_list)>0):\n",
    "        names_rdd = sc.parallelize(names_list)\n",
    "        spark = get_spark_session(names_rdd.context.getConf())\n",
    "        row_rdd = names_rdd.map(lambda w: Row(Name=w))\n",
    "        table_df = spark.createDataFrame(row_rdd)\n",
    "        table_df = table_df.createOrReplaceTempView(view_name)"
   ]
  },
  {
   "cell_type": "markdown",
   "metadata": {
    "id": "lmSsOk0sYH4B"
   },
   "source": [
    "## Contestants and teachers"
   ]
  },
  {
   "cell_type": "markdown",
   "metadata": {
    "id": "zE-M8GaGiSSa"
   },
   "source": [
    "List of the singers (contestants) still inside the competition:\n",
    "* Aisha Maryam\n",
    "* Albe (Alberto La Malfa)\n",
    "* Alex (Alessandro Rina)\n",
    "* Crytical (Francesco Paone)\n",
    "* Elena Manuele\n",
    "* Luigi Strangis\n",
    "* LDA (Luca D'Alessio)\n",
    "* Nicol Castagna\n",
    "* Rea (Maria Mircea)\n",
    "* Sissi (Silvia Cesana)"
   ]
  },
  {
   "cell_type": "code",
   "execution_count": null,
   "metadata": {
    "id": "1w14Gq7LiSSb"
   },
   "outputs": [],
   "source": [
    "singers = [\"Aisha\",\"Albe\",\"Alex\",\"Crytical\",\"Elena\",\"Luigi\",\"LDA\",\"Nicol\",\"Rea\",\"Sissi\"]\n",
    "from_list_to_view(time, singers, \"singers_df\")"
   ]
  },
  {
   "cell_type": "markdown",
   "metadata": {},
   "source": [
    "List of the dancers (contestants) still in the competition:\n",
    "* Carola Puddu\n",
    "* Christian Stefanelli\n",
    "* Cosmary Fasanelli\n",
    "* Cristiano La Bozzetta\n",
    "* Dario Schirone\n",
    "* Mattia Zenzola\n",
    "* Serena Carella"
   ]
  },
  {
   "cell_type": "code",
   "execution_count": null,
   "metadata": {
    "id": "r26vyMlIhb3-"
   },
   "outputs": [],
   "source": [
    "dancers = [\"Carola\",\"Christian\",\"Cosmary\",\"Cristiano\",\"Dario\",\"Mattia\",\"Serena\"]\n",
    "from_list_to_view(time, dancers, \"dancers_df\")"
   ]
  },
  {
   "cell_type": "markdown",
   "metadata": {
    "id": "SIbmXCt0iSSe"
   },
   "source": [
    "List of the teachers:\n",
    "* Rudy Zerbi\n",
    "* Lorella Cuccarini\n",
    "* Anna Pettinelli\n",
    "* Alessandra Celentano\n",
    "* Raimondo Todaro\n",
    "* Veronica Peparini"
   ]
  },
  {
   "cell_type": "code",
   "execution_count": null,
   "metadata": {
    "id": "0m3luEsmiSSh"
   },
   "outputs": [],
   "source": [
    "teachers = [\"Pettinelli\",\"Zerbi\",\"Cuccarini\",\"Celentano\",\"Todaro\",\"Peparini\"]\n",
    "from_list_to_view(time, teachers, \"teachers_df\")"
   ]
  },
  {
   "cell_type": "markdown",
   "metadata": {
    "id": "XElRVH48UyQe"
   },
   "source": [
    "Dictionary with surnames, nicknames, aliases."
   ]
  },
  {
   "cell_type": "code",
   "execution_count": null,
   "metadata": {
    "id": "gCB2kFo0iSSj"
   },
   "outputs": [],
   "source": [
    "full_names = {\"Anna\":\"Pettinelli\",\"Annapettinelli\":\"Pettinelli\",\n",
    "             \"Rudy\":\"Zerbi\",\"Rudyzerbi\":\"Zerbi\",\n",
    "             \"Lorella\":\"Cuccarini\",\"Lorellacuccarini\":\"Cuccarini\",\"Lcuccarini\":\"Cuccarini\",\n",
    "             \"Alessandra\":\"Celentano\",\"Alessandracelentano\":\"Celentano\",\n",
    "             \"Cele\":\"Celentano\",\"Alecelentano\":\"Celentano\",\n",
    "             \"Raimondo\":\"Todaro\",\"Raimondotodaro\":\"Todaro\",\n",
    "             \"Veronica\":\"Peparini\",\"Veronicapeparini\":\"Peparini\",\"Verop7\":\"Peparini\",\n",
    "             \"Maryam\":\"Aisha\",\"Aishamaryam\":\"Aisha\",\n",
    "             \"Alberto\":\"Albe\",\"Malfa\":\"Albe\",\n",
    "             \"Alessandro\":\"Alex\",\"Rina\":\"Alex\",\n",
    "             \"Francesco\":\"Crytical\",\"Paone\":\"Crytical\",\n",
    "             \"Manuele\":\"Elena\",\"Elenamanuele\":\"Elena\",\n",
    "             \"Strangis\":\"Luigi\",\"Luigistrangis\":\"Luigi\",\"Strangisluigi\":\"Luigi\",\n",
    "             \"Luca\":\"LDA\",\"Lda\":\"LDA\",\n",
    "             \"Castagna\":\"Nicol\",\"Nicolcastagna\":\"Nicol\",\n",
    "             \"Mircea\":\"Rea\",\n",
    "             \"Silvia\":\"Sissi\",\"Cesana\":\"Sissi\",\n",
    "             \"Puddu\":\"Carola\",\"Carolapuddu\":\"Carola\",\"Alorac22\":\"Carola\",\n",
    "             \"Stefanelli\":\"Christian\",\"Turbojr\":\"Christian\",\n",
    "             \"Fasanelli\":\"Cosmary\",\"Cosmaryfasanelli\":\"Cosmary\",\n",
    "             \"Bozzetta\":\"Cristiano\",\"Cristianolbz99\":\"Cristiano\",\"Cristianolabozzetta\":\"Cristiano\",\n",
    "             \"Schirone\":\"Dario\",\"Darioschirone\":\"Dario\",\n",
    "             \"Zenzola\":\"Mattia\",\"Mattiazenzola\":\"Mattia\",\n",
    "             \"Carella\":\"Serena\",\"Serenacarella\":\"Serena\"}"
   ]
  },
  {
   "cell_type": "markdown",
   "metadata": {
    "id": "UFa4T_f4wpj4"
   },
   "source": [
    "## Discretized Stream"
   ]
  },
  {
   "cell_type": "code",
   "execution_count": null,
   "metadata": {
    "id": "AbZxsVIJiSSm"
   },
   "outputs": [],
   "source": [
    "keywords = singers + dancers + teachers"
   ]
  },
  {
   "cell_type": "code",
   "execution_count": null,
   "metadata": {
    "id": "vXODqtxsiSSn"
   },
   "outputs": [],
   "source": [
    "lines.flatMap(lambda text: text.split()) \\\n",
    "        .map(lambda word: change_name(clean_hashtag(word))) \\\n",
    "        .filter(lambda word: word in keywords) \\\n",
    "        .map(lambda word: (word, 1)) \\\n",
    "        .updateStateByKey(aggregate_count) \\\n",
    "        .foreachRDD(process_rdd)"
   ]
  },
  {
   "cell_type": "markdown",
   "metadata": {
    "id": "I4qHIXX_w3Am"
   },
   "source": [
    "## Start Streaming\n",
    "\n",
    "Start the script *tweets_stream.py* from the terminal, write the topic you want to monitor (*amici21*), then start streaming."
   ]
  },
  {
   "cell_type": "code",
   "execution_count": null,
   "metadata": {
    "colab": {
     "base_uri": "https://localhost:8080/",
     "height": 220
    },
    "id": "_o5d1GpqcYg5",
    "outputId": "1689fed3-8023-4d9b-9e3a-54d1921d21b1"
   },
   "outputs": [
    {
     "name": "stdout",
     "output_type": "stream",
     "text": [
      "Start tweeet analysis...\n"
     ]
    }
   ],
   "source": [
    "ssc.start()\n",
    "\n",
    "print(\"Start tweeet analysis...\")\n",
    "start = dt.datetime.now()"
   ]
  },
  {
   "cell_type": "markdown",
   "metadata": {
    "id": "O9TrCLk6xJMV"
   },
   "source": [
    "## Tweet counter"
   ]
  },
  {
   "cell_type": "markdown",
   "metadata": {
    "id": "LqDZBZSLYH4L"
   },
   "source": [
    "### Query"
   ]
  },
  {
   "cell_type": "code",
   "execution_count": null,
   "metadata": {
    "id": "J0EG04u_iSSu"
   },
   "outputs": [],
   "source": [
    "query_tweet_singers = \"SELECT * FROM TempView \\\n",
    "                       WHERE Name IN \\\n",
    "                           (SELECT Name FROM singers_df) \\\n",
    "                       ORDER BY count DESC\""
   ]
  },
  {
   "cell_type": "code",
   "execution_count": null,
   "metadata": {
    "id": "OubOu_Gyhb4L"
   },
   "outputs": [],
   "source": [
    "query_tweet_dancers = \"SELECT * FROM TempView \\\n",
    "                       WHERE Name IN \\\n",
    "                           (SELECT Name FROM dancers_df) \\\n",
    "                       ORDER BY count DESC\""
   ]
  },
  {
   "cell_type": "code",
   "execution_count": null,
   "metadata": {
    "id": "073Jzkb8iSS0"
   },
   "outputs": [],
   "source": [
    "query_tweet_teachers = \"SELECT * FROM TempView \\\n",
    "                        WHERE Name IN \\\n",
    "                            (SELECT Name FROM teachers_df) \\\n",
    "                        ORDER BY count DESC\""
   ]
  },
  {
   "cell_type": "markdown",
   "metadata": {
    "id": "aEJzwCT9YH4N"
   },
   "source": [
    "### Tweet analysis"
   ]
  },
  {
   "cell_type": "code",
   "execution_count": null,
   "metadata": {
    "id": "8H39fTiDYH4N"
   },
   "outputs": [],
   "source": [
    "def tweet_analysis(query, fig_name, figsize=(12,8), palette=None, title=None):\n",
    "    df_top = get_spark_session(sc).sql(query)\n",
    "    df_top.show()\n",
    "    df_top_pd = df_top.toPandas()\n",
    "\n",
    "    plt.figure(figsize=figsize)\n",
    "    sns.barplot(x=\"Count\", y=\"Name\", data=df_top_pd, palette=palette).set(title=title)\n",
    "    plt.grid()\n",
    "    plt.savefig(fig_name)\n",
    "    plt.show()"
   ]
  },
  {
   "cell_type": "code",
   "execution_count": null,
   "metadata": {
    "colab": {
     "base_uri": "https://localhost:8080/",
     "height": 220
    },
    "id": "PKJPj1lNcvZ3",
    "outputId": "b51c20a8-2e23-4a5c-ac46-39cc1003cb81",
    "scrolled": false
   },
   "outputs": [
    {
     "name": "stdout",
     "output_type": "stream",
     "text": [
      "Start tweet analysis: 2021-12-19 13:34:20\n",
      "Last update: 2021-12-19 16:51:10\n",
      "Elapsed time: 3 hours, 16 minutes, 50 seconds\n",
      "+--------+-----+\n",
      "|    Name|Count|\n",
      "+--------+-----+\n",
      "|    Alex|10381|\n",
      "|   Luigi| 3084|\n",
      "|   Sissi| 1226|\n",
      "|     LDA| 1047|\n",
      "|     Rea| 1033|\n",
      "|    Albe|  861|\n",
      "|   Aisha|  741|\n",
      "|Crytical|  325|\n",
      "|   Elena|  307|\n",
      "|   Nicol|  176|\n",
      "+--------+-----+\n",
      "\n"
     ]
    },
    {
     "data": {
      "image/png": "[encoded data removed]",
      "text/plain": [
       "<Figure size 864x576 with 1 Axes>"
      ]
     },
     "metadata": {
      "needs_background": "light"
     },
     "output_type": "display_data"
    },
    {
     "name": "stdout",
     "output_type": "stream",
     "text": [
      "+---------+-----+\n",
      "|     Name|Count|\n",
      "+---------+-----+\n",
      "|   Carola| 3284|\n",
      "|  Cosmary| 1431|\n",
      "|   Mattia| 1039|\n",
      "|   Serena|  881|\n",
      "|    Dario|  873|\n",
      "|Christian|  870|\n",
      "|Cristiano|  734|\n",
      "+---------+-----+\n",
      "\n"
     ]
    },
    {
     "data": {
      "image/png": "[encoded data removed]",
      "text/plain": [
       "<Figure size 864x576 with 1 Axes>"
      ]
     },
     "metadata": {
      "needs_background": "light"
     },
     "output_type": "display_data"
    },
    {
     "name": "stdout",
     "output_type": "stream",
     "text": [
      "+----------+-----+\n",
      "|      Name|Count|\n",
      "+----------+-----+\n",
      "| Celentano| 3927|\n",
      "|    Todaro| 1378|\n",
      "|Pettinelli|  494|\n",
      "|  Peparini|  487|\n",
      "|     Zerbi|  316|\n",
      "| Cuccarini|  132|\n",
      "+----------+-----+\n",
      "\n"
     ]
    },
    {
     "data": {
      "image/png": "[encoded data removed]",
      "text/plain": [
       "<Figure size 864x576 with 1 Axes>"
      ]
     },
     "metadata": {
      "needs_background": "light"
     },
     "output_type": "display_data"
    }
   ],
   "source": [
    "print_timedelta(start)\n",
    "\n",
    "# Tweet analysis of the singers\n",
    "tweet_analysis(query_tweet_singers, fig_sing, palette=\"Reds_d\",\n",
    "               title=\"Amici 21: the most tweeted singers\")\n",
    "\n",
    "# Tweet analysis of the dancers\n",
    "tweet_analysis(query_tweet_dancers, fig_dance, palette=\"Blues_d\",\n",
    "               title=\"Amici 21: the most tweeted dancers\")\n",
    "\n",
    "# Tweet analysis of the teachers\n",
    "tweet_analysis(query_tweet_teachers, fig_teach, palette=\"Greens_d\", \n",
    "               title=\"Amici 21: the most tweeted teachers\")"
   ]
  },
  {
   "cell_type": "code",
   "execution_count": null,
   "metadata": {
    "id": "_757DbGZcqKY"
   },
   "outputs": [],
   "source": [
    "#ssc.stop()\n",
    "#!sudo kill $(sudo lsof -t -i:9999)"
   ]
  },
  {
   "cell_type": "code",
   "execution_count": null,
   "metadata": {
    "id": "GTfNGN01cqKZ"
   },
   "outputs": [],
   "source": []
  }
 ],
 "metadata": {
  "colab": {
   "collapsed_sections": [],
   "name": "amici21_12_19.ipynb",
   "provenance": []
  },
  "kernelspec": {
   "display_name": "Python 3 (ipykernel)",
   "language": "python",
   "name": "python3"
  },
  "language_info": {
   "codemirror_mode": {
    "name": "ipython",
    "version": 3
   },
   "file_extension": ".py",
   "mimetype": "text/x-python",
   "name": "python",
   "nbconvert_exporter": "python",
   "pygments_lexer": "ipython3",
   "version": "3.9.7"
  }
 },
 "nbformat": 4,
 "nbformat_minor": 1
}
